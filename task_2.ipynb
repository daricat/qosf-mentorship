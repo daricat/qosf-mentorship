{
 "cells": [
  {
   "cell_type": "code",
   "execution_count": 2,
   "metadata": {},
   "outputs": [],
   "source": [
    "from qiskit import QuantumCircuit\n",
    "from src.quantum_noise import add_quantum_noise, analyze_noise_effect\n",
    "from src.gate_basis_transformer import GateBasisTransformer\n",
    "from src.drapper import test_quantum_adder\n",
    "from src.quantum_noise_analyse import comprehensive_noise_analysis, demonstrate_noise_analysis"
   ]
  },
  {
   "cell_type": "markdown",
   "metadata": {},
   "source": [
    "### Task 2.1"
   ]
  },
  {
   "cell_type": "code",
   "execution_count": 9,
   "metadata": {},
   "outputs": [
    {
     "name": "stdout",
     "output_type": "stream",
     "text": [
      "{'avg_x_errors': 0.018, 'avg_y_errors': 0.019, 'avg_z_errors': 0.017, 'avg_single_qubit_errors': 0.054, 'avg_two_qubit_errors': 0.0}\n"
     ]
    }
   ],
   "source": [
    "# Create a simple test circuit\n",
    "qc = QuantumCircuit(2)\n",
    "qc.h(0)    # Single-qubit gate\n",
    "qc.cx(0,1) # Two-qubit gate\n",
    "qc.h(1)    # Single-qubit gate\n",
    "\n",
    "# Add noise\n",
    "p1 = 0.01  # 1% error rate for single-qubit gates\n",
    "p2 = 0.02  # 2% error rate for two-qubit gates\n",
    "noisy_circuit = add_quantum_noise(qc, p1, p2)\n",
    "\n",
    "# Analyze noise effects\n",
    "stats = analyze_noise_effect(qc, p1, p2, num_samples=1000)\n",
    "print(stats)"
   ]
  },
  {
   "cell_type": "markdown",
   "metadata": {},
   "source": [
    "### Task 2.2"
   ]
  },
  {
   "cell_type": "code",
   "execution_count": 10,
   "metadata": {},
   "outputs": [
    {
     "name": "stdout",
     "output_type": "stream",
     "text": [
      "Gates in transformed circuit: {'x': 0, 'rz': 9, 'cx': 1, 'sx': 6, 'id': 0}\n"
     ]
    }
   ],
   "source": [
    "# Create a test circuit with non-basis gates\n",
    "qc = QuantumCircuit(2)\n",
    "qc.h(0)      # Hadamard gate (not in basis)\n",
    "qc.cx(0, 1)  # CX gate (in basis)\n",
    "qc.t(1)      # T gate (not in basis)\n",
    "qc.y(0)      # Y gate (not in basis)\n",
    "\n",
    "# Create transformer and transform circuit\n",
    "transformer = GateBasisTransformer()\n",
    "transformed_circuit = transformer.transform_circuit(qc)\n",
    "\n",
    "# Get gate counts in the transformed circuit\n",
    "gate_counts = transformer.get_gate_counts(transformed_circuit)\n",
    "print(\"Gates in transformed circuit:\", gate_counts)"
   ]
  },
  {
   "cell_type": "markdown",
   "metadata": {},
   "source": [
    "### Test 2.3"
   ]
  },
  {
   "cell_type": "code",
   "execution_count": 11,
   "metadata": {},
   "outputs": [
    {
     "name": "stdout",
     "output_type": "stream",
     "text": [
      "Adding 3 and 5:\n",
      "Expected sum: 8\n",
      "Number of qubits used: 4\n",
      "Measurement results: {'1000': 1024}\n"
     ]
    }
   ],
   "source": [
    "# Example usage\n",
    "a = 3\n",
    "b = 5\n",
    "test_results = test_quantum_adder(a, b, shots=1000)\n",
    "\n",
    "print(f\"Adding {a} and {b}:\")\n",
    "print(f\"Expected sum: {test_results['expected_sum']}\")\n",
    "print(f\"Number of qubits used: {test_results['n_qubits_used']}\")\n",
    "print(\"Measurement results:\", test_results['measurement_counts'])"
   ]
  },
  {
   "cell_type": "markdown",
   "metadata": {},
   "source": [
    "### Task 2.4"
   ]
  },
  {
   "cell_type": "code",
   "execution_count": 3,
   "metadata": {},
   "outputs": [
    {
     "name": "stdout",
     "output_type": "stream",
     "text": [
      "Analyzing quantum addition of 3 + 5\n",
      "\n",
      "Noise Level Analysis:\n",
      "Noise levels (p1=0.001, p2=0.002): Success rate = 0.00%\n",
      "Noise levels (p1=0.01, p2=0.02): Success rate = 0.00%\n",
      "Noise levels (p1=0.05, p2=0.1): Success rate = 0.00%\n",
      "Noise levels (p1=0.1, p2=0.2): Success rate = 0.00%\n",
      "\n",
      "Circuit Depth Impact:\n",
      "Circuit depth: 152\n",
      "Total gates: 278\n",
      "Success rate: 0.00%\n",
      "\n",
      "Mitigation Recommendations:\n",
      "Circuit optimization needed: True\n",
      "Maximum recommended noise levels: {'max_single_qubit_error': 0.0, 'max_two_qubit_error': 0.0}\n",
      "Reliability threshold: 0.00%\n"
     ]
    }
   ],
   "source": [
    "# Basic analysis\n",
    "a, b = 3, 5\n",
    "results = comprehensive_noise_analysis(a, b, shots=1000)\n",
    "\n",
    "# Detailed demonstration\n",
    "analysis_results = demonstrate_noise_analysis()"
   ]
  },
  {
   "cell_type": "markdown",
   "metadata": {},
   "source": [
    "**Noise Level Analysis:**\n",
    "\n",
    "At all the tested noise levels (p1=0.001, p2=0.002; p1=0.01, p2=0.02; p1=0.05, p2=0.1; p1=0.1, p2=0.2), the success rate for the quantum addition of 3 + 5 is 0.00%.\n",
    "This indicates that the quantum circuit is extremely sensitive to noise, and even relatively low noise levels completely destroy the accuracy of the addition operation.\n",
    "\n",
    "\n",
    "**Circuit Depth Impact:**\n",
    "\n",
    "The circuit depth is 152, and the total number of gates is 278.\n",
    "Despite these relatively high values, the success rate is still 0.00%, even with the lowest noise levels tested.\n",
    "\n",
    "\n",
    "**Mitigation Recommendations:**\n",
    "\n",
    "The analysis recommends that circuit optimization is needed, as the current circuit is not robust enough to handle any level of noise.\n",
    "The suggested maximum noise levels for both single-qubit (p1) and two-qubit (p2) errors is 0.0, which means the circuit cannot tolerate any noise at all.\n",
    "The reliability threshold is also 0.00%, further emphasizing the fragility of the current quantum addition circuit.\n",
    "\n",
    "\n",
    "\n",
    "These results indicate a major problem with the quantum addition circuit in the presence of noise. The circuit is simply not resilient enough to handle even small amounts of noise, leading to a complete failure of the addition operation."
   ]
  },
  {
   "cell_type": "code",
   "execution_count": null,
   "metadata": {},
   "outputs": [],
   "source": []
  }
 ],
 "metadata": {
  "kernelspec": {
   "display_name": "qosf",
   "language": "python",
   "name": "python3"
  },
  "language_info": {
   "codemirror_mode": {
    "name": "ipython",
    "version": 3
   },
   "file_extension": ".py",
   "mimetype": "text/x-python",
   "name": "python",
   "nbconvert_exporter": "python",
   "pygments_lexer": "ipython3",
   "version": "3.12.1"
  }
 },
 "nbformat": 4,
 "nbformat_minor": 2
}
